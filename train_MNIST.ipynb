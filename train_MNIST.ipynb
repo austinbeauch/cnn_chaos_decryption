{
 "cells": [
  {
   "cell_type": "code",
   "execution_count": 1,
   "metadata": {},
   "outputs": [],
   "source": [
    "import torch\n",
    "import torchvision\n",
    "import torch.nn as nn\n",
    "import torch.nn.functional as F\n",
    "import torch.optim as optim\n",
    "from torch.utils.data import DataLoader, Dataset\n",
    "from torchvision.datasets import ImageFolder\n",
    "from torchvision import transforms\n",
    "from tqdm import tqdm, trange\n",
    "\n",
    "import matplotlib.pyplot as plt\n",
    "import numpy as np\n",
    "\n",
    "from PIL import Image\n",
    "\n",
    "from utils import *"
   ]
  },
  {
   "cell_type": "code",
   "execution_count": 2,
   "metadata": {},
   "outputs": [],
   "source": [
    "from unet_model import UNet"
   ]
  },
  {
   "cell_type": "code",
   "execution_count": 3,
   "metadata": {},
   "outputs": [],
   "source": [
    "class UnetData(torch.utils.data.Dataset):\n",
    "    def __init__(self, encrpyted, original):\n",
    "        self.data = encrpyted\n",
    "        self.targets = original\n",
    "\n",
    "    def __len__(self):\n",
    "        return len(self.data)\n",
    "\n",
    "    def __getitem__(self, item):\n",
    "        return self.data[item], self.targets[item]"
   ]
  },
  {
   "cell_type": "code",
   "execution_count": 6,
   "metadata": {},
   "outputs": [],
   "source": [
    "# CIFAR\n",
    "trainset =  torchvision.datasets.CIFAR10(root='./data/', train=True, download=False)\n",
    "testset = torchvision.datasets.CIFAR10('./data/', train=True, download=False)\n",
    "trainset.data = torch.from_numpy(trainset.data.mean(axis=-1)).int()\n",
    "testset.data = torch.from_numpy(testset.data.mean(axis=-1)).int()"
   ]
  },
  {
   "cell_type": "code",
   "execution_count": 4,
   "metadata": {},
   "outputs": [],
   "source": [
    "# MNIST\n",
    "trainset = torchvision.datasets.MNIST('./data/', train=True, download=False)\n",
    "testset = torchvision.datasets.MNIST('./data/', train=False, download=False)"
   ]
  },
  {
   "cell_type": "code",
   "execution_count": 5,
   "metadata": {},
   "outputs": [],
   "source": [
    "image_length = len(trainset.data[0].flatten())"
   ]
  },
  {
   "cell_type": "code",
   "execution_count": 6,
   "metadata": {},
   "outputs": [],
   "source": [
    "# create the key for encryption\n",
    "x0 = 0.123456789\n",
    "# alpha = 500\n",
    "# alpha = 0.95\n",
    "alpha = 3.601\n",
    "key = keygen(logistic_map, image_length, x0, alpha)"
   ]
  },
  {
   "cell_type": "code",
   "execution_count": 7,
   "metadata": {},
   "outputs": [
    {
     "name": "stdout",
     "output_type": "stream",
     "text": [
      "59000/60000\r"
     ]
    }
   ],
   "source": [
    "tr_encrypted =  torch.zeros_like(trainset.data)\n",
    "tr_targets = torch.zeros_like(trainset.data)\n",
    "# set out data as encrypted input, decrypted output\n",
    "for idx, img in enumerate(trainset.data):\n",
    "    if idx % 1000 == 0:\n",
    "        print(f\"{idx}/{len(trainset.data)}\", end=\"\\r\", flush=True)\n",
    "    img_copy = img.clone()\n",
    "    enc = encrypt(img_copy, key)\n",
    "    tr_encrypted[idx][:, :] = enc\n",
    "    tr_targets[idx][:, :] = img_copy\n",
    "    \n",
    "# bad normalization but lets see how it works\n",
    "tr_encrypted = tr_encrypted/255\n",
    "tr_targets = tr_targets/255"
   ]
  },
  {
   "cell_type": "code",
   "execution_count": 8,
   "metadata": {},
   "outputs": [
    {
     "name": "stdout",
     "output_type": "stream",
     "text": [
      "9000/10000\r"
     ]
    }
   ],
   "source": [
    "va_encrypted =  torch.zeros_like(testset.data)\n",
    "va_targets = torch.zeros_like(testset.data)\n",
    "# set out data as encrypted input, decrypted output\n",
    "for idx, img in enumerate(testset.data):\n",
    "    if idx % 1000 == 0:\n",
    "        print(f\"{idx}/{len(testset.data)}\", end=\"\\r\", flush=True)\n",
    "    img_copy = img.clone()\n",
    "    enc = encrypt(img_copy, key)\n",
    "    va_encrypted[idx][:, :] = enc\n",
    "    va_targets[idx][:, :] = img_copy\n",
    "    \n",
    "# bad normalization but lets see how it works\n",
    "va_encrypted = va_encrypted/255\n",
    "va_targets = va_targets/255"
   ]
  },
  {
   "cell_type": "code",
   "execution_count": 9,
   "metadata": {},
   "outputs": [],
   "source": [
    "train_data = UnetData(tr_encrypted, tr_targets)\n",
    "tr_data_loader = DataLoader(\n",
    "    dataset=train_data,\n",
    "    batch_size=32,\n",
    "    num_workers=0,\n",
    "    shuffle=True\n",
    ")\n",
    "\n",
    "va_data = UnetData(va_encrypted, va_targets)\n",
    "va_data_loader = DataLoader(\n",
    "    dataset=va_data,\n",
    "    batch_size=32,\n",
    "    num_workers=0,\n",
    "    shuffle=True\n",
    ")"
   ]
  },
  {
   "cell_type": "raw",
   "metadata": {},
   "source": [
    "epochs = 1\n",
    "iter_idx = -1\n",
    "loss = 0"
   ]
  },
  {
   "cell_type": "code",
   "execution_count": 13,
   "metadata": {},
   "outputs": [],
   "source": [
    "iter_train_loss = []\n",
    "\n",
    "epoch_train_loss = []\n",
    "val_train_loss = []"
   ]
  },
  {
   "cell_type": "code",
   "execution_count": null,
   "metadata": {},
   "outputs": [],
   "source": [
    "device = torch.device('cuda' if torch.cuda.is_available() else 'cpu')\n",
    "\n",
    "model = UNet(1, 1)\n",
    "model = model.to(device)\n",
    "criterion = nn.L1Loss()\n",
    "optimizer = torch.optim.Adam(model.parameters(), lr=1e-4)\n",
    "iter_idx = -1\n",
    "for epoch in range(epochs):\n",
    "    prefix = \"Training Epoch {:3d}: \".format(epoch)\n",
    "    curr_epoch = []\n",
    "    for data in tqdm(tr_data_loader, desc=prefix, postfix=\"loss {:8f}\".format(loss)):\n",
    "        iter_idx += 1\n",
    "        x, y = data\n",
    "        x = x.to(device).unsqueeze(1)\n",
    "        y = y.to(device).unsqueeze(1)\n",
    "        \n",
    "        predictions = model(x)\n",
    "        \n",
    "        loss = criterion(predictions, y)\n",
    "        \n",
    "        loss.backward()\n",
    "        optimizer.step()\n",
    "        optimizer.zero_grad()\n",
    "        \n",
    "        curr_epoch.append(loss.item())\n",
    "        \n",
    "        if iter_idx >= 150:\n",
    "            assert False\n",
    "        \n",
    "    iter_train_loss += curr_epoch\n",
    "    epoch_train_loss.append(np.mean(curr_epoch))"
   ]
  },
  {
   "cell_type": "code",
   "execution_count": null,
   "metadata": {},
   "outputs": [],
   "source": []
  },
  {
   "cell_type": "code",
   "execution_count": 14,
   "metadata": {},
   "outputs": [
    {
     "data": {
      "image/png": "[encoded data removed]",
      "text/plain": [
       "<Figure size 432x288 with 1 Axes>"
      ]
     },
     "metadata": {
      "needs_background": "light"
     },
     "output_type": "display_data"
    }
   ],
   "source": [
    "plt.plot(iter_train_loss, label=\"Train Loss\")\n",
    "plt.title(\"L1 Loss\")\n",
    "plt.xlabel(\"Iteration\")\n",
    "plt.ylabel(\"Loss\")\n",
    "plt.legend()\n",
    "plt.grid()\n",
    "plt.show()"
   ]
  },
  {
   "cell_type": "code",
   "execution_count": 17,
   "metadata": {},
   "outputs": [
    {
     "data": {
      "text/plain": [
       "Text(0.5, 1.0, 'Encrypted Image')"
      ]
     },
     "execution_count": 17,
     "metadata": {},
     "output_type": "execute_result"
    },
    {
     "data": {
      "image/png": "[encoded data removed]",
      "text/plain": [
       "<Figure size 432x288 with 1 Axes>"
      ]
     },
     "metadata": {
      "needs_background": "light"
     },
     "output_type": "display_data"
    }
   ],
   "source": [
    "plt.imshow(x[0,0].cpu(), cmap=\"gray\")\n",
    "plt.title(\"Encrypted Image\")"
   ]
  },
  {
   "cell_type": "code",
   "execution_count": 25,
   "metadata": {},
   "outputs": [
    {
     "data": {
      "text/plain": [
       "Text(0.5, 1.0, 'Predicted Image')"
      ]
     },
     "execution_count": 25,
     "metadata": {},
     "output_type": "execute_result"
    },
    {
     "data": {
      "image/png": "[encoded data removed]",
      "text/plain": [
       "<Figure size 432x288 with 1 Axes>"
      ]
     },
     "metadata": {
      "needs_background": "light"
     },
     "output_type": "display_data"
    }
   ],
   "source": [
    "plt.imshow(y[0,0].cpu(), cmap=\"gray\")\n",
    "plt.title(\"Predicted Image\")"
   ]
  },
  {
   "cell_type": "code",
   "execution_count": 24,
   "metadata": {},
   "outputs": [
    {
     "data": {
      "text/plain": [
       "<matplotlib.image.AxesImage at 0x243804af608>"
      ]
     },
     "execution_count": 24,
     "metadata": {},
     "output_type": "execute_result"
    },
    {
     "data": {
      "image/png": "[encoded data removed]",
      "text/plain": [
       "<Figure size 432x288 with 1 Axes>"
      ]
     },
     "metadata": {
      "needs_background": "light"
     },
     "output_type": "display_data"
    }
   ],
   "source": [
    "plt.imshow(predictions[0,0].detach().cpu().numpy(), cmap=\"gray\")"
   ]
  },
  {
   "cell_type": "code",
   "execution_count": 18,
   "metadata": {},
   "outputs": [
    {
     "name": "stderr",
     "output_type": "stream",
     "text": [
      "Training Epoch   2: 100%|████████████████████████████████████████████████████████████████████| 313/313 [00:04<00:00, 76.78it/s]\n"
     ]
    }
   ],
   "source": [
    "va_loss = []\n",
    "for data in tqdm(va_data_loader, desc=prefix):\n",
    "    with torch.no_grad():\n",
    "        x, y = data\n",
    "        x = x.to(device).unsqueeze(1)\n",
    "        y = y.to(device).unsqueeze(1)\n",
    "\n",
    "        predictions = model(x)\n",
    "\n",
    "        loss = criterion(predictions, y)\n",
    "        va_loss.append(loss.item())\n",
    "    av_va_loss = np.mean(va_loss)"
   ]
  },
  {
   "cell_type": "code",
   "execution_count": 19,
   "metadata": {},
   "outputs": [
    {
     "data": {
      "text/plain": [
       "0.02450551060489572"
      ]
     },
     "execution_count": 19,
     "metadata": {},
     "output_type": "execute_result"
    }
   ],
   "source": [
    "av_va_loss"
   ]
  },
  {
   "cell_type": "code",
   "execution_count": 25,
   "metadata": {},
   "outputs": [
    {
     "data": {
      "image/png": "[encoded data removed]",
      "text/plain": [
       "<Figure size 1080x360 with 3 Axes>"
      ]
     },
     "metadata": {
      "needs_background": "light"
     },
     "output_type": "display_data"
    }
   ],
   "source": [
    "fig = plt.figure(figsize=(15,5))\n",
    "example = 0\n",
    "\n",
    "plt.subplot(1, 3, 1)\n",
    "plt.title(\"Encrypted\")\n",
    "plt.imshow(x[example,0].cpu(), cmap='gray')\n",
    "\n",
    "plt.subplot(1, 3, 2)\n",
    "plt.title(\"Actual Image\")\n",
    "plt.imshow(y[example,0].cpu(), cmap='gray')\n",
    "\n",
    "plt.subplot(1, 3, 3)\n",
    "plt.title(\"Predicted Image\")\n",
    "plt.imshow(predictions[example,0].detach().cpu().numpy(), cmap='gray')\n",
    "\n",
    "plt.show()"
   ]
  },
  {
   "cell_type": "code",
   "execution_count": 21,
   "metadata": {},
   "outputs": [
    {
     "data": {
      "text/plain": [
       "<matplotlib.image.AxesImage at 0x203944c35c8>"
      ]
     },
     "execution_count": 21,
     "metadata": {},
     "output_type": "execute_result"
    },
    {
     "data": {
      "image/png": "[encoded data removed]",
      "text/plain": [
       "<Figure size 432x288 with 1 Axes>"
      ]
     },
     "metadata": {
      "needs_background": "light"
     },
     "output_type": "display_data"
    }
   ],
   "source": [
    "plt.imshow(x[0,0].cpu(), cmap='gray')"
   ]
  },
  {
   "cell_type": "code",
   "execution_count": 22,
   "metadata": {},
   "outputs": [
    {
     "data": {
      "text/plain": [
       "<matplotlib.image.AxesImage at 0x2039452a3c8>"
      ]
     },
     "execution_count": 22,
     "metadata": {},
     "output_type": "execute_result"
    },
    {
     "data": {
      "image/png": "[encoded data removed]",
      "text/plain": [
       "<Figure size 432x288 with 1 Axes>"
      ]
     },
     "metadata": {
      "needs_background": "light"
     },
     "output_type": "display_data"
    }
   ],
   "source": [
    "plt.imshow(y[6,0].cpu(), cmap='gray')"
   ]
  },
  {
   "cell_type": "code",
   "execution_count": 23,
   "metadata": {},
   "outputs": [
    {
     "data": {
      "text/plain": [
       "<matplotlib.image.AxesImage at 0x20394e11388>"
      ]
     },
     "execution_count": 23,
     "metadata": {},
     "output_type": "execute_result"
    },
    {
     "data": {
      "image/png": "[encoded data removed]",
      "text/plain": [
       "<Figure size 432x288 with 1 Axes>"
      ]
     },
     "metadata": {
      "needs_background": "light"
     },
     "output_type": "display_data"
    }
   ],
   "source": [
    "plt.imshow(predictions[6,0].detach().cpu().numpy(), cmap='gray')"
   ]
  },
  {
   "cell_type": "code",
   "execution_count": null,
   "metadata": {},
   "outputs": [],
   "source": []
  }
 ],
 "metadata": {
  "kernelspec": {
   "display_name": "Python 3",
   "language": "python",
   "name": "python3"
  },
  "language_info": {
   "codemirror_mode": {
    "name": "ipython",
    "version": 3
   },
   "file_extension": ".py",
   "mimetype": "text/x-python",
   "name": "python",
   "nbconvert_exporter": "python",
   "pygments_lexer": "ipython3",
   "version": "3.7.6"
  }
 },
 "nbformat": 4,
 "nbformat_minor": 4
}
